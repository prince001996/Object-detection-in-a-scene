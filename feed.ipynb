{
 "cells": [
  {
   "cell_type": "code",
   "execution_count": null,
   "metadata": {},
   "outputs": [],
   "source": [
    "import cv2\n",
    "import numpy as np\n",
    "import time\n",
    "import imutils\n",
    "from pyimagesearch.panorama import Stitcher\n",
    "\n",
    "#1 \n",
    "left =cv2.VideoCapture(0)\n",
    "right =cv2.VideoCapture(1)\n",
    "a=0\n",
    "\n",
    "while True:\n",
    "    a=a+1\n",
    "    #3\n",
    "    left_check, left_frame = left.read()\n",
    "    right_check, right_frame = right.read()\n",
    "    # stitching code below this\n",
    "    \n",
    "    \n",
    "    \n",
    "\n",
    "    \n",
    "    \n",
    "    \n",
    "    #stitching code above this\n",
    "    #4\n",
    "    cv2.imshow('left', left_frame)\n",
    "    cv2.imshow('right', right_frame)\n",
    "    #cv2.imshow(\"stitched_frame\", stitched_frame)\n",
    "    #time.sleep(1)\n",
    "    #5\n",
    "    key = cv2.waitKey(1)\n",
    "    if(key==ord('q')):\n",
    "        break\n",
    "#2\n",
    "print(a)\n",
    "left.release()\n",
    "right.release()\n",
    "cv2.destroyAllWindows()"
   ]
  },
  {
   "cell_type": "code",
   "execution_count": null,
   "metadata": {},
   "outputs": [],
   "source": []
  },
  {
   "cell_type": "code",
   "execution_count": null,
   "metadata": {},
   "outputs": [],
   "source": []
  }
 ],
 "metadata": {
  "kernelspec": {
   "display_name": "Python 3",
   "language": "python",
   "name": "python3"
  },
  "language_info": {
   "codemirror_mode": {
    "name": "ipython",
    "version": 3
   },
   "file_extension": ".py",
   "mimetype": "text/x-python",
   "name": "python",
   "nbconvert_exporter": "python",
   "pygments_lexer": "ipython3",
   "version": "3.6.5"
  }
 },
 "nbformat": 4,
 "nbformat_minor": 2
}
