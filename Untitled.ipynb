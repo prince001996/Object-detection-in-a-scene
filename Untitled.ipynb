{
 "cells": [
  {
   "cell_type": "code",
   "execution_count": 2,
   "metadata": {},
   "outputs": [
    {
     "name": "stdout",
     "output_type": "stream",
     "text": [
      "0.33962297439575195\n"
     ]
    }
   ],
   "source": [
    "import cv2\n",
    "import numpy as np\n",
    "import time\n",
    "import imutils\n",
    "from pyimagesearch.panorama import Stitcher\n",
    "\n",
    "start = time.time()\n",
    "left =cv2.VideoCapture(0)\n",
    "right =cv2.VideoCapture(1)\n",
    "\n",
    "left_check, left_frame = left.read()\n",
    "right_check, right_frame = right.read()\n",
    "# stitching code below this\n",
    "    \n",
    "# load the two images and resize them to have a width of 400 pixels\n",
    "# (for faster processing)\n",
    "imageA = left_frame\n",
    "imageB = right_frame\n",
    "   \n",
    "imageA = imutils.resize(imageA, width=400)\n",
    "imageB = imutils.resize(imageB, width=400)\n",
    "\n",
    "# stitch the images together to create a panorama\n",
    "stitcher = Stitcher()\n",
    "(result, vis) = stitcher.stitch([imageA, imageB], showMatches=True)\n",
    "\n",
    "cv2.imshow(\"Image A\", imageA)\n",
    "cv2.imshow(\"Image B\", imageB)\n",
    "cv2.imshow(\"Result\", result)\n",
    "end = time.time()\n",
    "print(end-start)\n",
    "#time.sleep(1)\n",
    "\n",
    "left.release()\n",
    "right.release()\n",
    "cv2.destroyAllWindows()"
   ]
  },
  {
   "cell_type": "code",
   "execution_count": null,
   "metadata": {},
   "outputs": [],
   "source": []
  }
 ],
 "metadata": {
  "kernelspec": {
   "display_name": "Python 3",
   "language": "python",
   "name": "python3"
  },
  "language_info": {
   "codemirror_mode": {
    "name": "ipython",
    "version": 3
   },
   "file_extension": ".py",
   "mimetype": "text/x-python",
   "name": "python",
   "nbconvert_exporter": "python",
   "pygments_lexer": "ipython3",
   "version": "3.6.5"
  }
 },
 "nbformat": 4,
 "nbformat_minor": 2
}
